{
  "nbformat": 4,
  "nbformat_minor": 0,
  "metadata": {
    "colab": {
      "provenance": []
    },
    "kernelspec": {
      "name": "python3",
      "display_name": "Python 3"
    },
    "language_info": {
      "name": "python"
    }
  },
  "cells": [
    {
      "cell_type": "code",
      "execution_count": 1,
      "metadata": {
        "id": "NG78rriHxbRI"
      },
      "outputs": [],
      "source": [
        "import pandas as pd\n",
        "from sklearn.model_selection import train_test_split\n",
        "from sklearn.preprocessing import StandardScaler\n",
        "from sklearn.svm import SVC\n",
        "import pickle\n",
        "\n",
        "# Load the dataset (Assuming the dataset is in the same directory and named 'data.csv')\n",
        "df = pd.read_csv('/content/StudentsPerformance.csv')\n",
        "\n",
        "# Rename columns if necessary to replace spaces with underscores\n",
        "df.rename(columns=lambda x: x.strip().replace(\" \", \"_\"), inplace=True)\n",
        "\n",
        "# Extract features and target\n",
        "X = df[['math_score', 'reading_score', 'writing_score']]  # Update column names accordingly\n",
        "y = df['race/ethnicity']  # Update with the correct target column name\n",
        "\n",
        "# Split into train and test sets\n",
        "X_train, X_test, y_train, y_test = train_test_split(X, y, test_size=0.2, random_state=42)\n",
        "\n",
        "# Scale features\n",
        "scaler = StandardScaler()\n",
        "X_train_scaled = scaler.fit_transform(X_train)\n",
        "X_test_scaled = scaler.transform(X_test)\n",
        "\n",
        "# Train the SVM classifier\n",
        "svm_classifier = SVC()\n",
        "svm_classifier.fit(X_train_scaled, y_train)\n",
        "\n",
        "# Save the model and scaler to disk\n",
        "with open('svm_classifier.pkl', 'wb') as model_file:\n",
        "    pickle.dump(svm_classifier, model_file)\n",
        "with open('scaler.pkl', 'wb') as scaler_file:\n",
        "    pickle.dump(scaler, scaler_file)\n",
        "\n",
        "# Evaluate the model if necessary\n",
        "# print(f\"Model Accuracy: {svm_classifier.score(X_test_scaled, y_test)}\")\n"
      ]
    },
    {
      "cell_type": "code",
      "source": [
        "\n"
      ],
      "metadata": {
        "id": "3IXdrJkozKLT"
      },
      "execution_count": null,
      "outputs": []
    }
  ]
}